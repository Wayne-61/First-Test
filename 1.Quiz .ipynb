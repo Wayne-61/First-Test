{
 "cells": [
  {
   "cell_type": "markdown",
   "metadata": {},
   "source": [
    "# Assignment 1"
   ]
  },
  {
   "cell_type": "markdown",
   "metadata": {},
   "source": [
    "### 1. Write an If-else program and use the break and continue statement"
   ]
  },
  {
   "cell_type": "code",
   "execution_count": 1,
   "metadata": {},
   "outputs": [
    {
     "name": "stdout",
     "output_type": "stream",
     "text": [
      "Put a number1\n"
     ]
    }
   ],
   "source": [
    "a = int(input(\"Put a number\"))\n",
    "for i in range(a):\n",
    "    if a == i-1:\n",
    "        break\n",
    "    else:\n",
    "        continue"
   ]
  },
  {
   "cell_type": "markdown",
   "metadata": {},
   "source": [
    "### 2. Print table of any number in reverse order using for loop "
   ]
  },
  {
   "cell_type": "code",
   "execution_count": 2,
   "metadata": {},
   "outputs": [
    {
     "name": "stdout",
     "output_type": "stream",
     "text": [
      "5\n",
      "4\n",
      "3\n",
      "2\n",
      "1\n"
     ]
    }
   ],
   "source": [
    "a = [1,2,3,4,5]\n",
    "for i in range(4,-1,-1):\n",
    "    print(a[i])"
   ]
  },
  {
   "cell_type": "markdown",
   "metadata": {},
   "source": [
    "### 3. Create a functions of Addition, Subtraction , Multiplication and Division "
   ]
  },
  {
   "cell_type": "code",
   "execution_count": 16,
   "metadata": {},
   "outputs": [
    {
     "name": "stdout",
     "output_type": "stream",
     "text": [
      "2.0\n"
     ]
    }
   ],
   "source": [
    "def add(a,b):\n",
    "    print(a+b)\n",
    "def minus(a,b):\n",
    "    print(a-b)\n",
    "def multiply(a,b):\n",
    "    print(a*b)\n",
    "def divide(a,b):\n",
    "    print(a/b)\n",
    "divide(4,2)"
   ]
  },
  {
   "cell_type": "markdown",
   "metadata": {},
   "source": [
    "#### 4: Create a function showEmployee() in such a way that it should accept employee name, and it’s salary and display both, and if the salary is missing in function call it should show it as 9000"
   ]
  },
  {
   "cell_type": "code",
   "execution_count": 18,
   "metadata": {},
   "outputs": [
    {
     "name": "stdout",
     "output_type": "stream",
     "text": [
      "Enter the employee's name: Hello\n",
      "Enter his or her salary: 100000000000\n",
      "Hello's salary is 100000000000\n"
     ]
    }
   ],
   "source": [
    "a = input(\"Enter the employee's name: \")\n",
    "b = int(input(\"Enter his or her salary: \"))\n",
    "def showEmployee(name,salary=9000):\n",
    "    print(name+\"'s salary is \"+str(salary))\n",
    "showEmployee(a,b)"
   ]
  },
  {
   "cell_type": "markdown",
   "metadata": {},
   "source": [
    "### 5.Assign a different name to function and call it through the new name"
   ]
  },
  {
   "cell_type": "code",
   "execution_count": 6,
   "metadata": {},
   "outputs": [
    {
     "name": "stdout",
     "output_type": "stream",
     "text": [
      "Hello\n"
     ]
    }
   ],
   "source": [
    "def hello():\n",
    "    print(\"Hello\")\n",
    "hi = hello()\n",
    "hi"
   ]
  },
  {
   "cell_type": "markdown",
   "metadata": {},
   "source": [
    "### 6.Generate a Python list of all the even numbers between 4 to 30"
   ]
  },
  {
   "cell_type": "code",
   "execution_count": 21,
   "metadata": {},
   "outputs": [
    {
     "name": "stdout",
     "output_type": "stream",
     "text": [
      "[40, 42, 44, 46, 48, 50, 52]\n"
     ]
    }
   ],
   "source": [
    "num = []\n",
    "for i in range(40,53):\n",
    "    if i%2 == 0:\n",
    "        num.append(i)\n",
    "print(num)"
   ]
  },
  {
   "cell_type": "markdown",
   "metadata": {},
   "source": [
    "### 7.Return the largest item from the given list"
   ]
  },
  {
   "cell_type": "code",
   "execution_count": 22,
   "metadata": {},
   "outputs": [
    {
     "name": "stdout",
     "output_type": "stream",
     "text": [
      "Enter the values, seperate by comma, only enter integers1,2,3,4,5\n",
      "5\n"
     ]
    }
   ],
   "source": [
    "a = input(\"Enter the values, seperate by comma, only enter integers\").split(\",\")\n",
    "for i in range(len(a)):\n",
    "    a[i] = int(a[i])\n",
    "print(max(a))"
   ]
  },
  {
   "cell_type": "markdown",
   "metadata": {},
   "source": [
    "### 8. Create dictionary containing 4 key,value pair and print using for loop"
   ]
  },
  {
   "cell_type": "code",
   "execution_count": 25,
   "metadata": {},
   "outputs": [
    {
     "name": "stdout",
     "output_type": "stream",
     "text": [
      "('A', 1)\n",
      "('B', 2)\n",
      "('C', 3)\n",
      "('D', 4)\n"
     ]
    }
   ],
   "source": [
    "a = {\"A\":1,\"B\":2,\"C\":3,\"D\":4}\n",
    "for i in a.items():\n",
    "    print(i)"
   ]
  },
  {
   "cell_type": "markdown",
   "metadata": {},
   "source": [
    "### 9. Take number as input from user and based on number you have to tell him grades\n",
    "* If Number is less than 25 then grade is D\n",
    "* If Number is less than 50 then grade is C\n",
    "* If Number is less than 75 then grade is B\n",
    "* Else Grade is A"
   ]
  },
  {
   "cell_type": "code",
   "execution_count": 27,
   "metadata": {},
   "outputs": [
    {
     "name": "stdout",
     "output_type": "stream",
     "text": [
      "Enter the grade: 49\n",
      "C\n"
     ]
    }
   ],
   "source": [
    "grade = int(input(\"Enter the grade: \"))\n",
    "if grade < 25:\n",
    "    print(\"D\")\n",
    "elif grade < 50:\n",
    "    print(\"C\")\n",
    "elif grade < 75:\n",
    "    print(\"B\")\n",
    "else:\n",
    "    print(\"A\")"
   ]
  },
  {
   "cell_type": "markdown",
   "metadata": {},
   "source": [
    "### 10.Check whether a number is divisible by 5 and 11 or not"
   ]
  },
  {
   "cell_type": "code",
   "execution_count": 30,
   "metadata": {},
   "outputs": [
    {
     "name": "stdout",
     "output_type": "stream",
     "text": [
      "Enter a number: 155\n",
      "Divisible by 5\n",
      "Not divisible by 11\n"
     ]
    }
   ],
   "source": [
    "num = int(input(\"Enter a number: \"))\n",
    "if num%5 == 0:\n",
    "    print(\"Divisible by 5\")\n",
    "else:\n",
    "    print(\"Not divisible by 5\")\n",
    "if num%11 == 0:\n",
    "    print(\"Divisible by 11\")\n",
    "else:\n",
    "    print(\"Not divisible by 11\")"
   ]
  },
  {
   "cell_type": "markdown",
   "metadata": {},
   "source": [
    "#### 11.Check Alphabet"
   ]
  },
  {
   "cell_type": "code",
   "execution_count": 34,
   "metadata": {},
   "outputs": [
    {
     "name": "stdout",
     "output_type": "stream",
     "text": [
      "Enter a charactera\n",
      "It is an alphabet\n"
     ]
    }
   ],
   "source": [
    "abc = input(\"Enter a character\")\n",
    "if abc >= \"A\" and abc <= \"z\":\n",
    "    print(\"It is an alphabet\")\n",
    "else:\n",
    "    print(\"It is a digit or symbol\")"
   ]
  },
  {
   "cell_type": "markdown",
   "metadata": {},
   "source": [
    "#### 12.Find those numbers which are divisible by 7 and multiple of 5, between 1500 and 2700"
   ]
  },
  {
   "cell_type": "code",
   "execution_count": 11,
   "metadata": {},
   "outputs": [
    {
     "name": "stdout",
     "output_type": "stream",
     "text": [
      "[1505, 1540, 1575, 1610, 1645, 1680, 1715, 1750, 1785, 1820, 1855, 1890, 1925, 1960, 1995, 2030, 2065, 2100, 2135, 2170, 2205, 2240, 2275, 2310, 2345, 2380, 2415, 2450, 2485, 2520, 2555, 2590, 2625, 2660, 2695]\n"
     ]
    }
   ],
   "source": [
    "num = []\n",
    "for i in range(1500,2701):\n",
    "    if i%7 == 0 and i%5 == 0:\n",
    "        num.append(i)\n",
    "print(num)"
   ]
  },
  {
   "cell_type": "markdown",
   "metadata": {},
   "source": [
    "#### 13.Take input of age of 3 people by user and determine oldest and youngest among them."
   ]
  },
  {
   "cell_type": "code",
   "execution_count": 35,
   "metadata": {},
   "outputs": [
    {
     "name": "stdout",
     "output_type": "stream",
     "text": [
      "Enter the age of the first person1\n",
      "Enter the age of the second person2\n",
      "Enter the age of the third person3\n",
      "A is the youngest\n",
      "C is the oldest\n"
     ]
    }
   ],
   "source": [
    "a = int(input(\"Enter the age of the first person\"))\n",
    "b = int(input(\"Enter the age of the second person\"))\n",
    "c = int(input(\"Enter the age of the third person\"))\n",
    "original = [a,b,c]\n",
    "new = [a,b,c]\n",
    "new.sort()\n",
    "ind = original.index(new[0])\n",
    "if ind == 0:\n",
    "    print(\"A is the youngest\")\n",
    "elif ind == 1:\n",
    "    print(\"B is the youngest\")\n",
    "else:\n",
    "    print(\"C is the youngest\")\n",
    "ind = original.index(new[-1])\n",
    "if ind == 0:\n",
    "    print(\"A is the oldest\")\n",
    "elif ind == 1:\n",
    "    print(\"B is the oldest\")\n",
    "else:\n",
    "    print(\"C is the oldest\")"
   ]
  },
  {
   "cell_type": "markdown",
   "metadata": {},
   "source": [
    "#### 14.A student will not be allowed to sit in exam if his/her attendence is less than 75%. Take following input from user Number of classes held Number of classes attended. And print percentage of class attended Is student is allowed to sit in exam or not."
   ]
  },
  {
   "cell_type": "code",
   "execution_count": 38,
   "metadata": {},
   "outputs": [
    {
     "name": "stdout",
     "output_type": "stream",
     "text": [
      "Write the Number Number of classes attended60\n",
      "Write the Number of classes held60\n",
      "He or she can sit\n"
     ]
    }
   ],
   "source": [
    "user0 = int(input('Write the Number Number of classes attended'))\n",
    "user = int(input(\"Write the Number of classes held\"))\n",
    "percentage = int(user0 / (user / 100))\n",
    "if percentage >= 75:\n",
    "    print(\"He or she can sit\")\n",
    "else:\n",
    "    print(\"He or she cannot sit\")"
   ]
  },
  {
   "cell_type": "markdown",
   "metadata": {},
   "source": [
    "### 15.Take values of length and breadth of a rectangle from user and check if it is square or not."
   ]
  },
  {
   "cell_type": "code",
   "execution_count": 40,
   "metadata": {},
   "outputs": [
    {
     "name": "stdout",
     "output_type": "stream",
     "text": [
      "Enter length10\n",
      "Enter width10\n",
      "Square\n"
     ]
    }
   ],
   "source": [
    "l = int(input(\"Enter length\"))\n",
    "w = int(input(\"Enter width\"))\n",
    "if l == w:\n",
    "    print(\"Square\")\n",
    "else:\n",
    "    print(\"Not square\")"
   ]
  },
  {
   "cell_type": "markdown",
   "metadata": {},
   "source": [
    "### 16. Using Titanic Dataset Draw Barplot Pclass vs Survived"
   ]
  },
  {
   "cell_type": "code",
   "execution_count": 46,
   "metadata": {},
   "outputs": [
    {
     "data": {
      "image/png": "[encoded data removed]",
      "text/plain": [
       "<Figure size 432x288 with 1 Axes>"
      ]
     },
     "metadata": {
      "needs_background": "light"
     },
     "output_type": "display_data"
    }
   ],
   "source": [
    "import scipy.stats as stats\n",
    "import numpy as np\n",
    "import pandas as pd\n",
    "import matplotlib.pyplot as plt\n",
    "import seaborn as sns\n",
    "titanic = sns.load_dataset('titanic')\n",
    "ax = sns.barplot(x=\"pclass\", y=\"survived\", data=titanic)"
   ]
  },
  {
   "cell_type": "markdown",
   "metadata": {},
   "source": [
    "### 17. Using Titanic Dataset Draw Barplot Sex vs Survived"
   ]
  },
  {
   "cell_type": "code",
   "execution_count": 47,
   "metadata": {},
   "outputs": [
    {
     "data": {
      "image/png": "[encoded data removed]",
      "text/plain": [
       "<Figure size 432x288 with 1 Axes>"
      ]
     },
     "metadata": {
      "needs_background": "light"
     },
     "output_type": "display_data"
    }
   ],
   "source": [
    "ax = sns.barplot(x=\"sex\", y=\"survived\", data=titanic)"
   ]
  },
  {
   "cell_type": "markdown",
   "metadata": {},
   "source": [
    "### 18. Using Titanic Dataset Draw Barplot Embarked vs Survived"
   ]
  },
  {
   "cell_type": "code",
   "execution_count": 48,
   "metadata": {},
   "outputs": [
    {
     "data": {
      "image/png": "[encoded data removed]",
      "text/plain": [
       "<Figure size 432x288 with 1 Axes>"
      ]
     },
     "metadata": {
      "needs_background": "light"
     },
     "output_type": "display_data"
    }
   ],
   "source": [
    "ax = sns.barplot(x=\"embarked\", y=\"survived\", data=titanic)"
   ]
  },
  {
   "cell_type": "markdown",
   "metadata": {},
   "source": [
    "### 19. Using Titanic Dataset Draw Parch vs Survived"
   ]
  },
  {
   "cell_type": "code",
   "execution_count": 49,
   "metadata": {},
   "outputs": [
    {
     "data": {
      "image/png": "[encoded data removed]",
      "text/plain": [
       "<Figure size 432x288 with 1 Axes>"
      ]
     },
     "metadata": {
      "needs_background": "light"
     },
     "output_type": "display_data"
    }
   ],
   "source": [
    "ax = sns.barplot(x=\"parch\", y=\"survived\", data=titanic)"
   ]
  },
  {
   "cell_type": "markdown",
   "metadata": {},
   "source": [
    "### 20. Using Titanic Dataset Draw Barplot SibSp vs Survived"
   ]
  },
  {
   "cell_type": "code",
   "execution_count": 50,
   "metadata": {},
   "outputs": [
    {
     "data": {
      "image/png": "[encoded data removed]",
      "text/plain": [
       "<Figure size 432x288 with 1 Axes>"
      ]
     },
     "metadata": {
      "needs_background": "light"
     },
     "output_type": "display_data"
    }
   ],
   "source": [
    "ax = sns.barplot(x=\"sibsp\", y=\"survived\", data=titanic)"
   ]
  },
  {
   "cell_type": "code",
   "execution_count": null,
   "metadata": {},
   "outputs": [],
   "source": []
  }
 ],
 "metadata": {
  "kernelspec": {
   "display_name": "Python 3",
   "language": "python",
   "name": "python3"
  },
  "language_info": {
   "codemirror_mode": {
    "name": "ipython",
    "version": 3
   },
   "file_extension": ".py",
   "mimetype": "text/x-python",
   "name": "python",
   "nbconvert_exporter": "python",
   "pygments_lexer": "ipython3",
   "version": "3.8.5"
  }
 },
 "nbformat": 4,
 "nbformat_minor": 2
}
